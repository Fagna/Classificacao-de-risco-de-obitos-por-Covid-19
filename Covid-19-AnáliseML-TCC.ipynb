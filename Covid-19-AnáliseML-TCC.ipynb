{
 "cells": [
  {
   "cell_type": "markdown",
   "id": "a728df92",
   "metadata": {},
   "source": [
    "# Classificação de risco de óbitos por covid-19 - Análise para TCC\n",
    "\n",
    "**Título:** Uso de Machine Learning para classificação de risco de óbitos por covid-19 no estado de Mato Grosso\n",
    "\n",
    "Link: https://dspace.bc.uepb.edu.br/jspui/handle/123456789/29113"
   ]
  },
  {
   "cell_type": "code",
   "execution_count": 1,
   "id": "ea218917",
   "metadata": {},
   "outputs": [],
   "source": [
    "import pandas as pd\n",
    "import numpy as np\n",
    "import matplotlib.pyplot as plt"
   ]
  },
  {
   "cell_type": "code",
   "execution_count": 2,
   "id": "9b51a75f",
   "metadata": {
    "scrolled": true
   },
   "outputs": [],
   "source": [
    "df = pd.read_csv(\"dados_covid.csv\", delimiter = \";\")"
   ]
  },
  {
   "cell_type": "markdown",
   "id": "6276cb89",
   "metadata": {},
   "source": [
    "## Pré-processamento de dados"
   ]
  },
  {
   "cell_type": "code",
   "execution_count": 3,
   "id": "7dacbccd",
   "metadata": {},
   "outputs": [],
   "source": [
    "df = df.drop([\"CodigoIBGERegiao\",\"RegiaoSaude\",\"CodigoIBGE\",\"Municipio\",\"DataNotificacao\",\"RacaCor\",\n",
    "              \"ProfissionalSeguranca\",\"DataInicioSintomas\",\"Hospitalizado\",\"FechamentoCaso\",\"DataModificacaoObito\",\n",
    "              \"DataEncerramentoCaso\",\"Seq_Row_Number\", 'Dias'], axis=1) "
   ]
  },
  {
   "cell_type": "markdown",
   "id": "210e87af",
   "metadata": {},
   "source": [
    "### Tratamento de valores ausentes e inconsistentes"
   ]
  },
  {
   "cell_type": "code",
   "execution_count": 4,
   "id": "d1b4ca63",
   "metadata": {},
   "outputs": [
    {
     "data": {
      "text/plain": [
       "idade                    0\n",
       "Sexo                     0\n",
       "ProfissionalSaude     4326\n",
       "Comorbidade              0\n",
       "Cardiovascular       13247\n",
       "Diabetes             11502\n",
       "Hipertensao           9053\n",
       "Neoplasia            14005\n",
       "Obesidade            12689\n",
       "Pulmonar             13796\n",
       "Situacao                 0\n",
       "Gestante              6702\n",
       "dtype: int64"
      ]
     },
     "execution_count": 4,
     "metadata": {},
     "output_type": "execute_result"
    }
   ],
   "source": [
    "df.isnull().sum()"
   ]
  },
  {
   "cell_type": "code",
   "execution_count": 5,
   "id": "ea0f4536",
   "metadata": {},
   "outputs": [],
   "source": [
    "df = df.dropna(subset=['Pulmonar','Cardiovascular','Diabetes','Hipertensao','Obesidade', \n",
    "                       'ProfissionalSaude','Gestante','Neoplasia'], axis = 0)"
   ]
  },
  {
   "cell_type": "code",
   "execution_count": 6,
   "id": "a78ca4b1",
   "metadata": {
    "scrolled": false
   },
   "outputs": [
    {
     "data": {
      "text/html": [
       "<div>\n",
       "<style scoped>\n",
       "    .dataframe tbody tr th:only-of-type {\n",
       "        vertical-align: middle;\n",
       "    }\n",
       "\n",
       "    .dataframe tbody tr th {\n",
       "        vertical-align: top;\n",
       "    }\n",
       "\n",
       "    .dataframe thead th {\n",
       "        text-align: right;\n",
       "    }\n",
       "</style>\n",
       "<table border=\"1\" class=\"dataframe\">\n",
       "  <thead>\n",
       "    <tr style=\"text-align: right;\">\n",
       "      <th></th>\n",
       "      <th>idade</th>\n",
       "      <th>Situacao</th>\n",
       "    </tr>\n",
       "  </thead>\n",
       "  <tbody>\n",
       "    <tr>\n",
       "      <th>count</th>\n",
       "      <td>440169.000000</td>\n",
       "      <td>440169.000000</td>\n",
       "    </tr>\n",
       "    <tr>\n",
       "      <th>mean</th>\n",
       "      <td>38.478010</td>\n",
       "      <td>0.019738</td>\n",
       "    </tr>\n",
       "    <tr>\n",
       "      <th>std</th>\n",
       "      <td>16.952102</td>\n",
       "      <td>0.139098</td>\n",
       "    </tr>\n",
       "    <tr>\n",
       "      <th>min</th>\n",
       "      <td>-1.000000</td>\n",
       "      <td>0.000000</td>\n",
       "    </tr>\n",
       "    <tr>\n",
       "      <th>25%</th>\n",
       "      <td>26.000000</td>\n",
       "      <td>0.000000</td>\n",
       "    </tr>\n",
       "    <tr>\n",
       "      <th>50%</th>\n",
       "      <td>37.000000</td>\n",
       "      <td>0.000000</td>\n",
       "    </tr>\n",
       "    <tr>\n",
       "      <th>75%</th>\n",
       "      <td>50.000000</td>\n",
       "      <td>0.000000</td>\n",
       "    </tr>\n",
       "    <tr>\n",
       "      <th>max</th>\n",
       "      <td>244.000000</td>\n",
       "      <td>1.000000</td>\n",
       "    </tr>\n",
       "  </tbody>\n",
       "</table>\n",
       "</div>"
      ],
      "text/plain": [
       "               idade       Situacao\n",
       "count  440169.000000  440169.000000\n",
       "mean       38.478010       0.019738\n",
       "std        16.952102       0.139098\n",
       "min        -1.000000       0.000000\n",
       "25%        26.000000       0.000000\n",
       "50%        37.000000       0.000000\n",
       "75%        50.000000       0.000000\n",
       "max       244.000000       1.000000"
      ]
     },
     "execution_count": 6,
     "metadata": {},
     "output_type": "execute_result"
    }
   ],
   "source": [
    "df.describe()"
   ]
  },
  {
   "cell_type": "markdown",
   "id": "e4a061c0",
   "metadata": {},
   "source": [
    "### Inconsistencias: \n",
    "\n",
    "**Idade** com valor máximo de 244 e com valor negativo;"
   ]
  },
  {
   "cell_type": "code",
   "execution_count": 7,
   "id": "6c5167c7",
   "metadata": {},
   "outputs": [],
   "source": [
    "df_incos = df.loc[df['idade'] < 0]\n",
    "df = df.drop(df_incos.index)"
   ]
  },
  {
   "cell_type": "markdown",
   "id": "ecb09e01",
   "metadata": {},
   "source": [
    "#### Determinando valor máximo idade 120 anos"
   ]
  },
  {
   "cell_type": "code",
   "execution_count": 8,
   "id": "18929925",
   "metadata": {},
   "outputs": [],
   "source": [
    "df_incos = df.loc[df['idade'] > 120]\n",
    "df = df.drop(df_incos.index)"
   ]
  },
  {
   "cell_type": "code",
   "execution_count": 9,
   "id": "fa888c8a",
   "metadata": {
    "scrolled": true
   },
   "outputs": [
    {
     "data": {
      "text/html": [
       "<div>\n",
       "<style scoped>\n",
       "    .dataframe tbody tr th:only-of-type {\n",
       "        vertical-align: middle;\n",
       "    }\n",
       "\n",
       "    .dataframe tbody tr th {\n",
       "        vertical-align: top;\n",
       "    }\n",
       "\n",
       "    .dataframe thead th {\n",
       "        text-align: right;\n",
       "    }\n",
       "</style>\n",
       "<table border=\"1\" class=\"dataframe\">\n",
       "  <thead>\n",
       "    <tr style=\"text-align: right;\">\n",
       "      <th></th>\n",
       "      <th>idade</th>\n",
       "      <th>Situacao</th>\n",
       "    </tr>\n",
       "  </thead>\n",
       "  <tbody>\n",
       "    <tr>\n",
       "      <th>count</th>\n",
       "      <td>440153.000000</td>\n",
       "      <td>440153.000000</td>\n",
       "    </tr>\n",
       "    <tr>\n",
       "      <th>mean</th>\n",
       "      <td>38.475351</td>\n",
       "      <td>0.019739</td>\n",
       "    </tr>\n",
       "    <tr>\n",
       "      <th>std</th>\n",
       "      <td>16.941294</td>\n",
       "      <td>0.139101</td>\n",
       "    </tr>\n",
       "    <tr>\n",
       "      <th>min</th>\n",
       "      <td>0.000000</td>\n",
       "      <td>0.000000</td>\n",
       "    </tr>\n",
       "    <tr>\n",
       "      <th>25%</th>\n",
       "      <td>26.000000</td>\n",
       "      <td>0.000000</td>\n",
       "    </tr>\n",
       "    <tr>\n",
       "      <th>50%</th>\n",
       "      <td>37.000000</td>\n",
       "      <td>0.000000</td>\n",
       "    </tr>\n",
       "    <tr>\n",
       "      <th>75%</th>\n",
       "      <td>50.000000</td>\n",
       "      <td>0.000000</td>\n",
       "    </tr>\n",
       "    <tr>\n",
       "      <th>max</th>\n",
       "      <td>113.000000</td>\n",
       "      <td>1.000000</td>\n",
       "    </tr>\n",
       "  </tbody>\n",
       "</table>\n",
       "</div>"
      ],
      "text/plain": [
       "               idade       Situacao\n",
       "count  440153.000000  440153.000000\n",
       "mean       38.475351       0.019739\n",
       "std        16.941294       0.139101\n",
       "min         0.000000       0.000000\n",
       "25%        26.000000       0.000000\n",
       "50%        37.000000       0.000000\n",
       "75%        50.000000       0.000000\n",
       "max       113.000000       1.000000"
      ]
     },
     "execution_count": 9,
     "metadata": {},
     "output_type": "execute_result"
    }
   ],
   "source": [
    "df.describe()"
   ]
  },
  {
   "cell_type": "code",
   "execution_count": 10,
   "id": "d1ddae5a",
   "metadata": {
    "scrolled": false
   },
   "outputs": [
    {
     "data": {
      "text/html": [
       "<div>\n",
       "<style scoped>\n",
       "    .dataframe tbody tr th:only-of-type {\n",
       "        vertical-align: middle;\n",
       "    }\n",
       "\n",
       "    .dataframe tbody tr th {\n",
       "        vertical-align: top;\n",
       "    }\n",
       "\n",
       "    .dataframe thead th {\n",
       "        text-align: right;\n",
       "    }\n",
       "</style>\n",
       "<table border=\"1\" class=\"dataframe\">\n",
       "  <thead>\n",
       "    <tr style=\"text-align: right;\">\n",
       "      <th></th>\n",
       "      <th>idade</th>\n",
       "      <th>Sexo</th>\n",
       "      <th>ProfissionalSaude</th>\n",
       "      <th>Comorbidade</th>\n",
       "      <th>Cardiovascular</th>\n",
       "      <th>Diabetes</th>\n",
       "      <th>Hipertensao</th>\n",
       "      <th>Neoplasia</th>\n",
       "      <th>Obesidade</th>\n",
       "      <th>Pulmonar</th>\n",
       "      <th>Situacao</th>\n",
       "      <th>Gestante</th>\n",
       "    </tr>\n",
       "  </thead>\n",
       "  <tbody>\n",
       "    <tr>\n",
       "      <th>0</th>\n",
       "      <td>32</td>\n",
       "      <td>Feminino</td>\n",
       "      <td>Não</td>\n",
       "      <td>Não</td>\n",
       "      <td>Não</td>\n",
       "      <td>Não</td>\n",
       "      <td>Não</td>\n",
       "      <td>Não</td>\n",
       "      <td>Não</td>\n",
       "      <td>Não</td>\n",
       "      <td>0</td>\n",
       "      <td>Não</td>\n",
       "    </tr>\n",
       "    <tr>\n",
       "      <th>1</th>\n",
       "      <td>48</td>\n",
       "      <td>Feminino</td>\n",
       "      <td>Não</td>\n",
       "      <td>Sim</td>\n",
       "      <td>Não</td>\n",
       "      <td>Não</td>\n",
       "      <td>Não</td>\n",
       "      <td>Não</td>\n",
       "      <td>Não</td>\n",
       "      <td>Não</td>\n",
       "      <td>0</td>\n",
       "      <td>Não</td>\n",
       "    </tr>\n",
       "    <tr>\n",
       "      <th>2</th>\n",
       "      <td>62</td>\n",
       "      <td>Feminino</td>\n",
       "      <td>Não</td>\n",
       "      <td>Não</td>\n",
       "      <td>Não</td>\n",
       "      <td>Não</td>\n",
       "      <td>Não</td>\n",
       "      <td>Não</td>\n",
       "      <td>Não</td>\n",
       "      <td>Não</td>\n",
       "      <td>0</td>\n",
       "      <td>Não</td>\n",
       "    </tr>\n",
       "    <tr>\n",
       "      <th>3</th>\n",
       "      <td>34</td>\n",
       "      <td>Masculino</td>\n",
       "      <td>Não</td>\n",
       "      <td>Não</td>\n",
       "      <td>Não</td>\n",
       "      <td>Não</td>\n",
       "      <td>Não</td>\n",
       "      <td>Não</td>\n",
       "      <td>Não</td>\n",
       "      <td>Não</td>\n",
       "      <td>0</td>\n",
       "      <td>Não</td>\n",
       "    </tr>\n",
       "    <tr>\n",
       "      <th>4</th>\n",
       "      <td>57</td>\n",
       "      <td>Feminino</td>\n",
       "      <td>Não</td>\n",
       "      <td>Sim</td>\n",
       "      <td>Não</td>\n",
       "      <td>Não</td>\n",
       "      <td>Sim</td>\n",
       "      <td>Não</td>\n",
       "      <td>Não</td>\n",
       "      <td>Não</td>\n",
       "      <td>0</td>\n",
       "      <td>Não</td>\n",
       "    </tr>\n",
       "    <tr>\n",
       "      <th>...</th>\n",
       "      <td>...</td>\n",
       "      <td>...</td>\n",
       "      <td>...</td>\n",
       "      <td>...</td>\n",
       "      <td>...</td>\n",
       "      <td>...</td>\n",
       "      <td>...</td>\n",
       "      <td>...</td>\n",
       "      <td>...</td>\n",
       "      <td>...</td>\n",
       "      <td>...</td>\n",
       "      <td>...</td>\n",
       "    </tr>\n",
       "    <tr>\n",
       "      <th>460716</th>\n",
       "      <td>59</td>\n",
       "      <td>Masculino</td>\n",
       "      <td>Não</td>\n",
       "      <td>Não</td>\n",
       "      <td>Não</td>\n",
       "      <td>Não</td>\n",
       "      <td>Não</td>\n",
       "      <td>Não</td>\n",
       "      <td>Não</td>\n",
       "      <td>Não</td>\n",
       "      <td>0</td>\n",
       "      <td>Não</td>\n",
       "    </tr>\n",
       "    <tr>\n",
       "      <th>460717</th>\n",
       "      <td>65</td>\n",
       "      <td>Masculino</td>\n",
       "      <td>Não</td>\n",
       "      <td>Sim</td>\n",
       "      <td>Não</td>\n",
       "      <td>Não</td>\n",
       "      <td>Sim</td>\n",
       "      <td>Não</td>\n",
       "      <td>Não</td>\n",
       "      <td>Não</td>\n",
       "      <td>0</td>\n",
       "      <td>Não</td>\n",
       "    </tr>\n",
       "    <tr>\n",
       "      <th>460718</th>\n",
       "      <td>76</td>\n",
       "      <td>Feminino</td>\n",
       "      <td>Não</td>\n",
       "      <td>Não</td>\n",
       "      <td>Não</td>\n",
       "      <td>Não</td>\n",
       "      <td>Não</td>\n",
       "      <td>Não</td>\n",
       "      <td>Não</td>\n",
       "      <td>Não</td>\n",
       "      <td>0</td>\n",
       "      <td>Não</td>\n",
       "    </tr>\n",
       "    <tr>\n",
       "      <th>460719</th>\n",
       "      <td>4</td>\n",
       "      <td>Masculino</td>\n",
       "      <td>Não</td>\n",
       "      <td>Não</td>\n",
       "      <td>Não</td>\n",
       "      <td>Não</td>\n",
       "      <td>Não</td>\n",
       "      <td>Não</td>\n",
       "      <td>Não</td>\n",
       "      <td>Não</td>\n",
       "      <td>0</td>\n",
       "      <td>Não</td>\n",
       "    </tr>\n",
       "    <tr>\n",
       "      <th>460720</th>\n",
       "      <td>64</td>\n",
       "      <td>Feminino</td>\n",
       "      <td>Não</td>\n",
       "      <td>Não</td>\n",
       "      <td>Não</td>\n",
       "      <td>Não</td>\n",
       "      <td>Não</td>\n",
       "      <td>Não</td>\n",
       "      <td>Não</td>\n",
       "      <td>Não</td>\n",
       "      <td>0</td>\n",
       "      <td>Não</td>\n",
       "    </tr>\n",
       "  </tbody>\n",
       "</table>\n",
       "<p>440153 rows × 12 columns</p>\n",
       "</div>"
      ],
      "text/plain": [
       "        idade       Sexo ProfissionalSaude Comorbidade Cardiovascular  \\\n",
       "0          32   Feminino               Não         Não            Não   \n",
       "1          48   Feminino               Não         Sim            Não   \n",
       "2          62   Feminino               Não         Não            Não   \n",
       "3          34  Masculino               Não         Não            Não   \n",
       "4          57   Feminino               Não         Sim            Não   \n",
       "...       ...        ...               ...         ...            ...   \n",
       "460716     59  Masculino               Não         Não            Não   \n",
       "460717     65  Masculino               Não         Sim            Não   \n",
       "460718     76   Feminino               Não         Não            Não   \n",
       "460719      4  Masculino               Não         Não            Não   \n",
       "460720     64   Feminino               Não         Não            Não   \n",
       "\n",
       "       Diabetes Hipertensao Neoplasia Obesidade Pulmonar  Situacao Gestante  \n",
       "0           Não         Não       Não       Não      Não         0      Não  \n",
       "1           Não         Não       Não       Não      Não         0      Não  \n",
       "2           Não         Não       Não       Não      Não         0      Não  \n",
       "3           Não         Não       Não       Não      Não         0      Não  \n",
       "4           Não         Sim       Não       Não      Não         0      Não  \n",
       "...         ...         ...       ...       ...      ...       ...      ...  \n",
       "460716      Não         Não       Não       Não      Não         0      Não  \n",
       "460717      Não         Sim       Não       Não      Não         0      Não  \n",
       "460718      Não         Não       Não       Não      Não         0      Não  \n",
       "460719      Não         Não       Não       Não      Não         0      Não  \n",
       "460720      Não         Não       Não       Não      Não         0      Não  \n",
       "\n",
       "[440153 rows x 12 columns]"
      ]
     },
     "metadata": {},
     "output_type": "display_data"
    }
   ],
   "source": [
    "display(df)"
   ]
  },
  {
   "cell_type": "markdown",
   "id": "96dfe2a8",
   "metadata": {},
   "source": [
    "## Descritivas\n",
    "\n",
    "### Sexo"
   ]
  },
  {
   "cell_type": "code",
   "execution_count": 11,
   "id": "4c7a72ab",
   "metadata": {},
   "outputs": [
    {
     "name": "stdout",
     "output_type": "stream",
     "text": [
      "Quantidades categorias: \n",
      "Sexo     \n",
      "Feminino     232473\n",
      "Masculino    207680\n",
      "dtype: int64\n",
      "Percentual categorias:\n",
      "Feminino     52.816407\n",
      "Masculino    47.183593\n",
      "Name: Sexo, dtype: float64\n"
     ]
    }
   ],
   "source": [
    "Quant = df[['Sexo']].value_counts()\n",
    "Perc = df['Sexo'].value_counts(normalize = True)*100\n",
    "print(\"Quantidades categorias: \\n{}\".format(Quant))\n",
    "print(\"Percentual categorias:\\n{}\".format(Perc))"
   ]
  },
  {
   "cell_type": "markdown",
   "id": "6ad8cd66",
   "metadata": {},
   "source": [
    "### ProfissionalSaude\t"
   ]
  },
  {
   "cell_type": "code",
   "execution_count": 12,
   "id": "61cde038",
   "metadata": {},
   "outputs": [
    {
     "name": "stdout",
     "output_type": "stream",
     "text": [
      "Quantidades categorias: \n",
      "ProfissionalSaude\n",
      "Não                  428135\n",
      "Sim                   12018\n",
      "dtype: int64\n",
      "Percentual categorias:\n",
      "Não    97.269586\n",
      "Sim     2.730414\n",
      "Name: ProfissionalSaude, dtype: float64\n"
     ]
    }
   ],
   "source": [
    "Quant = df[['ProfissionalSaude']].value_counts()\n",
    "Perc = df['ProfissionalSaude'].value_counts(normalize = True)*100\n",
    "print(\"Quantidades categorias: \\n{}\".format(Quant))\n",
    "print(\"Percentual categorias:\\n{}\".format(Perc))"
   ]
  },
  {
   "cell_type": "markdown",
   "id": "72179e4e",
   "metadata": {},
   "source": [
    "### Comorbidade\t"
   ]
  },
  {
   "cell_type": "code",
   "execution_count": 13,
   "id": "5c8a20c0",
   "metadata": {},
   "outputs": [
    {
     "name": "stdout",
     "output_type": "stream",
     "text": [
      "Quantidades categorias: \n",
      "Comorbidade\n",
      "Não            368592\n",
      "Sim             71561\n",
      "dtype: int64\n",
      "Percentual categorias:\n",
      "Não    83.74179\n",
      "Sim    16.25821\n",
      "Name: Comorbidade, dtype: float64\n"
     ]
    }
   ],
   "source": [
    "Quant = df[['Comorbidade']].value_counts()\n",
    "Perc = df['Comorbidade'].value_counts(normalize = True)*100\n",
    "print(\"Quantidades categorias: \\n{}\".format(Quant))\n",
    "print(\"Percentual categorias:\\n{}\".format(Perc))"
   ]
  },
  {
   "cell_type": "markdown",
   "id": "94261c46",
   "metadata": {},
   "source": [
    "### Cardiovascular\t"
   ]
  },
  {
   "cell_type": "code",
   "execution_count": 14,
   "id": "d24d17e1",
   "metadata": {},
   "outputs": [
    {
     "name": "stdout",
     "output_type": "stream",
     "text": [
      "Quantidades categorias: \n",
      "Cardiovascular\n",
      "Não               428976\n",
      "Sim                11177\n",
      "dtype: int64\n",
      "Percentual categorias:\n",
      "Não    97.460656\n",
      "Sim     2.539344\n",
      "Name: Cardiovascular, dtype: float64\n"
     ]
    }
   ],
   "source": [
    "Quant=df[['Cardiovascular']].value_counts()\n",
    "Perc=df['Cardiovascular'].value_counts(normalize = True)*100\n",
    "print(\"Quantidades categorias: \\n{}\".format(Quant))\n",
    "print(\"Percentual categorias:\\n{}\".format(Perc))"
   ]
  },
  {
   "cell_type": "markdown",
   "id": "758677eb",
   "metadata": {},
   "source": [
    "### Diabetes\t\t\t\t\t"
   ]
  },
  {
   "cell_type": "code",
   "execution_count": 15,
   "id": "32761ef2",
   "metadata": {},
   "outputs": [
    {
     "name": "stdout",
     "output_type": "stream",
     "text": [
      "Quantidades categorias: \n",
      "Diabetes\n",
      "Não         422840\n",
      "Sim          17313\n",
      "dtype: int64\n",
      "Percentual categorias:\n",
      "Não    96.066595\n",
      "Sim     3.933405\n",
      "Name: Diabetes, dtype: float64\n"
     ]
    }
   ],
   "source": [
    "Quant=df[['Diabetes']].value_counts()\n",
    "Perc=df['Diabetes'].value_counts(normalize = True)*100\n",
    "print(\"Quantidades categorias: \\n{}\".format(Quant))\n",
    "print(\"Percentual categorias:\\n{}\".format(Perc))"
   ]
  },
  {
   "cell_type": "markdown",
   "id": "49661075",
   "metadata": {},
   "source": [
    "### Hipertensao\t"
   ]
  },
  {
   "cell_type": "code",
   "execution_count": 16,
   "id": "1fe1e709",
   "metadata": {},
   "outputs": [
    {
     "name": "stdout",
     "output_type": "stream",
     "text": [
      "Quantidades categorias: \n",
      "Hipertensao\n",
      "Não            403010\n",
      "Sim             37143\n",
      "dtype: int64\n",
      "Percentual categorias:\n",
      "Não    91.561343\n",
      "Sim     8.438657\n",
      "Name: Hipertensao, dtype: float64\n"
     ]
    }
   ],
   "source": [
    "Quant=df[['Hipertensao']].value_counts()\n",
    "Perc=df['Hipertensao'].value_counts(normalize = True)*100\n",
    "print(\"Quantidades categorias: \\n{}\".format(Quant))\n",
    "print(\"Percentual categorias:\\n{}\".format(Perc))"
   ]
  },
  {
   "cell_type": "markdown",
   "id": "19b268fb",
   "metadata": {},
   "source": [
    "### Neoplasia\t"
   ]
  },
  {
   "cell_type": "code",
   "execution_count": 17,
   "id": "4b6f5344",
   "metadata": {},
   "outputs": [
    {
     "name": "stdout",
     "output_type": "stream",
     "text": [
      "Quantidades categorias: \n",
      "Neoplasia\n",
      "Não          439391\n",
      "Sim             762\n",
      "dtype: int64\n",
      "Percentual categorias:\n",
      "Não    99.826878\n",
      "Sim     0.173122\n",
      "Name: Neoplasia, dtype: float64\n"
     ]
    }
   ],
   "source": [
    "Quant=df[['Neoplasia']].value_counts()\n",
    "Perc=df['Neoplasia'].value_counts(normalize = True)*100\n",
    "print(\"Quantidades categorias: \\n{}\".format(Quant))\n",
    "print(\"Percentual categorias:\\n{}\".format(Perc))"
   ]
  },
  {
   "cell_type": "markdown",
   "id": "13aa9d7e",
   "metadata": {},
   "source": [
    "### Obesidade\t"
   ]
  },
  {
   "cell_type": "code",
   "execution_count": 18,
   "id": "06db6524",
   "metadata": {},
   "outputs": [
    {
     "name": "stdout",
     "output_type": "stream",
     "text": [
      "Quantidades categorias: \n",
      "Obesidade\n",
      "Não          431016\n",
      "Sim            9137\n",
      "dtype: int64\n",
      "Percentual categorias:\n",
      "Não    97.924131\n",
      "Sim     2.075869\n",
      "Name: Obesidade, dtype: float64\n"
     ]
    }
   ],
   "source": [
    "Quant=df[['Obesidade']].value_counts()\n",
    "Perc=df['Obesidade'].value_counts(normalize = True)*100\n",
    "print(\"Quantidades categorias: \\n{}\".format(Quant))\n",
    "print(\"Percentual categorias:\\n{}\".format(Perc))"
   ]
  },
  {
   "cell_type": "markdown",
   "id": "a3dd4808",
   "metadata": {},
   "source": [
    "### Pulmonar\t"
   ]
  },
  {
   "cell_type": "code",
   "execution_count": 19,
   "id": "ae113715",
   "metadata": {},
   "outputs": [
    {
     "name": "stdout",
     "output_type": "stream",
     "text": [
      "Quantidades categorias: \n",
      "Pulmonar\n",
      "Não         435142\n",
      "Sim           5011\n",
      "dtype: int64\n",
      "Percentual categorias:\n",
      "Não    98.861532\n",
      "Sim     1.138468\n",
      "Name: Pulmonar, dtype: float64\n"
     ]
    }
   ],
   "source": [
    "Quant=df[['Pulmonar']].value_counts()\n",
    "Perc=df['Pulmonar'].value_counts(normalize = True)*100\n",
    "print(\"Quantidades categorias: \\n{}\".format(Quant))\n",
    "print(\"Percentual categorias:\\n{}\".format(Perc))"
   ]
  },
  {
   "cell_type": "markdown",
   "id": "fd56463e",
   "metadata": {},
   "source": [
    "### Situacao\t"
   ]
  },
  {
   "cell_type": "code",
   "execution_count": 20,
   "id": "7d21a1cb",
   "metadata": {},
   "outputs": [
    {
     "name": "stdout",
     "output_type": "stream",
     "text": [
      "Quantidades categorias: \n",
      "Situacao\n",
      "0           431465\n",
      "1             8688\n",
      "dtype: int64\n",
      "Percentual categorias:\n",
      "0    98.026141\n",
      "1     1.973859\n",
      "Name: Situacao, dtype: float64\n"
     ]
    }
   ],
   "source": [
    "Quant=df[['Situacao']].value_counts()\n",
    "Perc=df['Situacao'].value_counts(normalize = True)*100\n",
    "print(\"Quantidades categorias: \\n{}\".format(Quant))\n",
    "print(\"Percentual categorias:\\n{}\".format(Perc))"
   ]
  },
  {
   "cell_type": "markdown",
   "id": "895272df",
   "metadata": {},
   "source": [
    "### Gestante"
   ]
  },
  {
   "cell_type": "code",
   "execution_count": 21,
   "id": "a160cc3d",
   "metadata": {},
   "outputs": [
    {
     "name": "stdout",
     "output_type": "stream",
     "text": [
      "Quantidades categorias: \n",
      "Gestante\n",
      "Não         437798\n",
      "Sim           2355\n",
      "dtype: int64\n",
      "Percentual categorias:\n",
      "Não    99.464959\n",
      "Sim     0.535041\n",
      "Name: Gestante, dtype: float64\n"
     ]
    }
   ],
   "source": [
    "Quant=df[['Gestante']].value_counts()\n",
    "Perc=df['Gestante'].value_counts(normalize = True)*100\n",
    "print(\"Quantidades categorias: \\n{}\".format(Quant))\n",
    "print(\"Percentual categorias:\\n{}\".format(Perc))"
   ]
  },
  {
   "cell_type": "markdown",
   "id": "65529e0f",
   "metadata": {},
   "source": [
    "### idade"
   ]
  },
  {
   "cell_type": "code",
   "execution_count": 22,
   "id": "9d261f60",
   "metadata": {
    "scrolled": false
   },
   "outputs": [
    {
     "data": {
      "text/plain": [
       "Text(0, 0.5, 'Frequência')"
      ]
     },
     "execution_count": 22,
     "metadata": {},
     "output_type": "execute_result"
    },
    {
     "data": {
      "image/png": "[encoded data removed]",
      "text/plain": [
       "<Figure size 640x480 with 1 Axes>"
      ]
     },
     "metadata": {},
     "output_type": "display_data"
    }
   ],
   "source": [
    "median = df[\"idade\"].median()\n",
    "median\n",
    "mean = df[\"idade\"].mean()\n",
    "fig, ax = plt.subplots() \n",
    "df['idade'].hist(color='#A9C5D3', edgecolor='black',   \n",
    "                          grid=False) \n",
    "plt.axvline(median, color='r' ) \n",
    "ax.set_title('', fontsize=12) \n",
    "ax .set_xlabel('Idade', fontsize=12) \n",
    "ax.set_ylabel('Frequência', fontsize=12)"
   ]
  },
  {
   "cell_type": "code",
   "execution_count": 23,
   "id": "e8ed3867",
   "metadata": {},
   "outputs": [
    {
     "data": {
      "text/plain": [
       "37.0"
      ]
     },
     "execution_count": 23,
     "metadata": {},
     "output_type": "execute_result"
    }
   ],
   "source": [
    "median = df[\"idade\"].median()\n",
    "median"
   ]
  },
  {
   "cell_type": "markdown",
   "id": "cebc0b92",
   "metadata": {},
   "source": [
    "## Divisão entre previsores e classe\n",
    "\n",
    "### Previsores"
   ]
  },
  {
   "cell_type": "code",
   "execution_count": 24,
   "id": "26261ddb",
   "metadata": {},
   "outputs": [
    {
     "data": {
      "text/plain": [
       "Index(['idade', 'Sexo', 'ProfissionalSaude', 'Comorbidade', 'Cardiovascular',\n",
       "       'Diabetes', 'Hipertensao', 'Neoplasia', 'Obesidade', 'Pulmonar',\n",
       "       'Situacao', 'Gestante'],\n",
       "      dtype='object')"
      ]
     },
     "execution_count": 24,
     "metadata": {},
     "output_type": "execute_result"
    }
   ],
   "source": [
    "df.columns"
   ]
  },
  {
   "cell_type": "code",
   "execution_count": 25,
   "id": "e582dde2",
   "metadata": {
    "scrolled": false
   },
   "outputs": [
    {
     "data": {
      "text/plain": [
       "array([[32, 'Feminino', 'Não', ..., 'Não', 'Não', 'Não'],\n",
       "       [48, 'Feminino', 'Não', ..., 'Não', 'Não', 'Não'],\n",
       "       [62, 'Feminino', 'Não', ..., 'Não', 'Não', 'Não'],\n",
       "       ...,\n",
       "       [76, 'Feminino', 'Não', ..., 'Não', 'Não', 'Não'],\n",
       "       [4, 'Masculino', 'Não', ..., 'Não', 'Não', 'Não'],\n",
       "       [64, 'Feminino', 'Não', ..., 'Não', 'Não', 'Não']], dtype=object)"
      ]
     },
     "execution_count": 25,
     "metadata": {},
     "output_type": "execute_result"
    }
   ],
   "source": [
    "X_df = df.iloc[:, [0,1,2,3,4,5,6,7,8,9,11]].values\n",
    "X_df"
   ]
  },
  {
   "cell_type": "markdown",
   "id": "7e62ef90",
   "metadata": {},
   "source": [
    "### Classe"
   ]
  },
  {
   "cell_type": "code",
   "execution_count": 26,
   "id": "92329977",
   "metadata": {},
   "outputs": [
    {
     "data": {
      "text/plain": [
       "array([0, 0, 0, ..., 0, 0, 0], dtype=int64)"
      ]
     },
     "execution_count": 26,
     "metadata": {},
     "output_type": "execute_result"
    }
   ],
   "source": [
    "y_df = df.iloc[:, 10].values\n",
    "y_df"
   ]
  },
  {
   "cell_type": "code",
   "execution_count": 27,
   "id": "4764034d",
   "metadata": {},
   "outputs": [
    {
     "data": {
      "text/plain": [
       "Situacao\n",
       "0    431465\n",
       "1      8688\n",
       "dtype: int64"
      ]
     },
     "execution_count": 27,
     "metadata": {},
     "output_type": "execute_result"
    }
   ],
   "source": [
    "df.groupby('Situacao').size()"
   ]
  },
  {
   "cell_type": "markdown",
   "id": "205d2727",
   "metadata": {},
   "source": [
    "## Tratamento do tipo das variáveis"
   ]
  },
  {
   "cell_type": "markdown",
   "id": "70eafb83",
   "metadata": {},
   "source": [
    "### LabelEncoder"
   ]
  },
  {
   "cell_type": "code",
   "execution_count": 28,
   "id": "ea1700c5",
   "metadata": {},
   "outputs": [
    {
     "data": {
      "text/plain": [
       "array([48, 0, 0, 1, 0, 0, 0, 0, 0, 0, 0], dtype=object)"
      ]
     },
     "execution_count": 28,
     "metadata": {},
     "output_type": "execute_result"
    }
   ],
   "source": [
    "from sklearn.preprocessing import LabelEncoder\n",
    "\n",
    "label_encoder_Sexo = LabelEncoder()\n",
    "label_encoder_ProfissionalSaude = LabelEncoder()\n",
    "label_encoder_Comorbidade = LabelEncoder()\n",
    "label_encoder_Cardiovascular = LabelEncoder()\n",
    "label_encoder_Diabetes = LabelEncoder()\n",
    "label_encoder_Hipertensao = LabelEncoder()\n",
    "label_encoder_Neoplasia = LabelEncoder()\n",
    "label_encoder_Obesidade = LabelEncoder()\n",
    "label_encoder_Pulmonar = LabelEncoder()\n",
    "label_encoder_Gestante = LabelEncoder()\n",
    "\n",
    "\n",
    "X_df[:,1] = label_encoder_Sexo.fit_transform(X_df[:,1])\n",
    "X_df[:,2] = label_encoder_ProfissionalSaude.fit_transform(X_df[:,2])\n",
    "X_df[:,3] = label_encoder_Comorbidade.fit_transform(X_df[:,3])\n",
    "X_df[:,4] = label_encoder_Cardiovascular.fit_transform(X_df[:,4])\n",
    "X_df[:,5] = label_encoder_Diabetes.fit_transform(X_df[:,5])\n",
    "X_df[:,6] = label_encoder_Hipertensao.fit_transform(X_df[:,6])\n",
    "X_df[:,7] = label_encoder_Neoplasia.fit_transform(X_df[:,7])\n",
    "X_df[:,8] = label_encoder_Obesidade.fit_transform(X_df[:,8])\n",
    "X_df[:,9] = label_encoder_Pulmonar.fit_transform(X_df[:,9])\n",
    "X_df[:,10] = label_encoder_Gestante.fit_transform(X_df[:,10])\n",
    "\n",
    "X_df[1]"
   ]
  },
  {
   "cell_type": "code",
   "execution_count": 29,
   "id": "4e4a3e21",
   "metadata": {},
   "outputs": [
    {
     "name": "stdout",
     "output_type": "stream",
     "text": [
      "<class 'pandas.core.frame.DataFrame'>\n",
      "Int64Index: 440153 entries, 0 to 460720\n",
      "Data columns (total 12 columns):\n",
      " #   Column             Non-Null Count   Dtype \n",
      "---  ------             --------------   ----- \n",
      " 0   idade              440153 non-null  int64 \n",
      " 1   Sexo               440153 non-null  object\n",
      " 2   ProfissionalSaude  440153 non-null  object\n",
      " 3   Comorbidade        440153 non-null  object\n",
      " 4   Cardiovascular     440153 non-null  object\n",
      " 5   Diabetes           440153 non-null  object\n",
      " 6   Hipertensao        440153 non-null  object\n",
      " 7   Neoplasia          440153 non-null  object\n",
      " 8   Obesidade          440153 non-null  object\n",
      " 9   Pulmonar           440153 non-null  object\n",
      " 10  Situacao           440153 non-null  int64 \n",
      " 11  Gestante           440153 non-null  object\n",
      "dtypes: int64(2), object(10)\n",
      "memory usage: 43.7+ MB\n"
     ]
    }
   ],
   "source": [
    "df.info()"
   ]
  },
  {
   "cell_type": "markdown",
   "id": "61d96f4d",
   "metadata": {},
   "source": [
    "## Escalonamento de valores"
   ]
  },
  {
   "cell_type": "code",
   "execution_count": 30,
   "id": "05f6dba9",
   "metadata": {},
   "outputs": [
    {
     "data": {
      "text/plain": [
       "array([-0.38222333, -0.9451725 , -0.16754279, -0.44062106, -0.16141583,\n",
       "       -0.20234763, -0.30358519, -0.04164395, -0.1455979 , -0.10731161,\n",
       "       -0.07334298])"
      ]
     },
     "execution_count": 30,
     "metadata": {},
     "output_type": "execute_result"
    }
   ],
   "source": [
    "from sklearn.preprocessing import StandardScaler\n",
    "scaler_census = StandardScaler()\n",
    "X_df = scaler_census.fit_transform(X_df)\n",
    "X_df[0]"
   ]
  },
  {
   "cell_type": "markdown",
   "id": "c68092ad",
   "metadata": {},
   "source": [
    "# Divisão entre treinamento e teste"
   ]
  },
  {
   "cell_type": "code",
   "execution_count": 31,
   "id": "dfed455d",
   "metadata": {},
   "outputs": [],
   "source": [
    "from sklearn.model_selection import train_test_split\n",
    "seed=2230\n",
    "np.random.seed(seed)\n",
    "X_train, X_test, y_train, y_test = train_test_split(X_df, y_df, test_size = 0.20, stratify = y_df)"
   ]
  },
  {
   "cell_type": "code",
   "execution_count": 32,
   "id": "30b65400",
   "metadata": {},
   "outputs": [
    {
     "data": {
      "text/plain": [
       "((352122, 11), (352122,))"
      ]
     },
     "execution_count": 32,
     "metadata": {},
     "output_type": "execute_result"
    }
   ],
   "source": [
    "X_train.shape, y_train.shape"
   ]
  },
  {
   "cell_type": "code",
   "execution_count": 33,
   "id": "92631c31",
   "metadata": {},
   "outputs": [
    {
     "data": {
      "text/plain": [
       "((88031, 11), (88031,))"
      ]
     },
     "execution_count": 33,
     "metadata": {},
     "output_type": "execute_result"
    }
   ],
   "source": [
    "X_test.shape, y_test.shape"
   ]
  },
  {
   "cell_type": "markdown",
   "id": "88f8e805",
   "metadata": {},
   "source": [
    "### Tecnica de Sub-amostragem da classe majoritaria"
   ]
  },
  {
   "cell_type": "code",
   "execution_count": 34,
   "id": "68ed0162",
   "metadata": {},
   "outputs": [
    {
     "name": "stdout",
     "output_type": "stream",
     "text": [
      "Antes:  Counter({0: 345172, 1: 6950})\n"
     ]
    }
   ],
   "source": [
    "from imblearn.under_sampling import RandomUnderSampler\n",
    "from collections import Counter\n",
    "print(\"Antes: \", Counter(y_train))"
   ]
  },
  {
   "cell_type": "code",
   "execution_count": 35,
   "id": "2c2ba29b",
   "metadata": {},
   "outputs": [],
   "source": [
    "undersample = RandomUnderSampler(sampling_strategy=1)\n",
    "X_train, y_train = undersample.fit_resample(X_train, y_train)"
   ]
  },
  {
   "cell_type": "code",
   "execution_count": 36,
   "id": "319e1485",
   "metadata": {},
   "outputs": [
    {
     "name": "stdout",
     "output_type": "stream",
     "text": [
      "Depois:  Counter({0: 6950, 1: 6950})\n"
     ]
    }
   ],
   "source": [
    "print(\"Depois: \", Counter(y_train))"
   ]
  },
  {
   "cell_type": "markdown",
   "id": "dfe9a018",
   "metadata": {},
   "source": [
    "# Algoritmos de Machine Learning\n",
    "\n",
    "Bibliotecas utilizadas para os modelos e metricas"
   ]
  },
  {
   "cell_type": "code",
   "execution_count": 37,
   "id": "c4614c3d",
   "metadata": {},
   "outputs": [],
   "source": [
    "from sklearn.ensemble import RandomForestClassifier\n",
    "from sklearn.linear_model import LogisticRegression\n",
    "import xgboost as xgb\n",
    "import lightgbm as lgb\n",
    "from catboost import CatBoostClassifier\n",
    "from sklearn.metrics import roc_auc_score\n",
    "from sklearn.metrics import classification_report\n",
    "from sklearn.model_selection import cross_val_predict\n",
    "from sklearn.metrics import confusion_matrix\n",
    "from sklearn.metrics import roc_curve, plot_roc_curve"
   ]
  },
  {
   "cell_type": "markdown",
   "id": "27eb46b4",
   "metadata": {},
   "source": [
    "## Random Forest"
   ]
  },
  {
   "cell_type": "code",
   "execution_count": 38,
   "id": "969d23cf",
   "metadata": {},
   "outputs": [
    {
     "name": "stdout",
     "output_type": "stream",
     "text": [
      "Resultado Fase de Treinamento\n",
      "\n",
      "AUC previsão (Random Forest) - Treino: 0.8168345323741008\n",
      "Validação cruzada (AUC ROC) 0.8031654676258994\n",
      "Classificação report do Random Forest (Treino):\n",
      "               precision    recall  f1-score   support\n",
      "\n",
      "           0       0.82      0.81      0.82      6950\n",
      "           1       0.81      0.82      0.82      6950\n",
      "\n",
      "    accuracy                           0.82     13900\n",
      "   macro avg       0.82      0.82      0.82     13900\n",
      "weighted avg       0.82      0.82      0.82     13900\n",
      "\n",
      "Resultado Fase de Teste\n",
      "\n",
      "AUC previsão (Random Forest) - Teste: 0.7994892411470931\n",
      "Matriz de confusão AUC (Random Forest) - Teste:\n",
      "[[68271 18022]\n",
      " [  334  1404]]\n",
      "Classificação report do Random Forest (Teste):\n",
      "               precision    recall  f1-score   support\n",
      "\n",
      "           0       1.00      0.79      0.88     86293\n",
      "           1       0.07      0.81      0.13      1738\n",
      "\n",
      "    accuracy                           0.79     88031\n",
      "   macro avg       0.53      0.80      0.51     88031\n",
      "weighted avg       0.98      0.79      0.87     88031\n",
      "\n",
      "Variáveis importância : [0.60117008 0.01747311 0.00700685 0.18614167 0.01703703 0.04384873\n",
      " 0.09437617 0.00376449 0.02063409 0.0055057  0.00304209]\n"
     ]
    }
   ],
   "source": [
    "rf = RandomForestClassifier(min_samples_split=25, n_estimators=1200, random_state=0)\n",
    "rf.fit(X_train, y_train)\n",
    "predCV =  cross_val_predict(rf, X_train, y_train, cv=5)\n",
    "print('Resultado Fase de Treinamento')\n",
    "    \n",
    "rf_pred_train = rf.predict(X_train) # previsão classe positiva para os dados de treino \n",
    "print('\\nAUC previsão (Random Forest) - Treino: {}'.format(roc_auc_score(y_train, rf_pred_train)))\n",
    "print(\"Validação cruzada (AUC ROC) {}\".format(roc_auc_score(y_train, predCV)))\n",
    "print('Classificação report do Random Forest (Treino):\\n {}'.format(classification_report(y_train, rf_pred_train)))\n",
    "    \n",
    "print('Resultado Fase de Teste')\n",
    "rf_pred_test = rf.predict(X_test) # previsão classe positiva para os dados de teste\n",
    "print('\\nAUC previsão (Random Forest) - Teste: {}'.format(roc_auc_score(y_test, rf_pred_test)))\n",
    "print('Matriz de confusão AUC (Random Forest) - Teste:\\n{}'.format(confusion_matrix(y_test, rf_pred_test)))\n",
    "print('Classificação report do Random Forest (Teste):\\n {}'.format(classification_report(y_test, rf_pred_test)))\n",
    "contribution = rf.feature_importances_\n",
    "print(\"Variáveis importância : {}\".format(contribution))"
   ]
  },
  {
   "cell_type": "code",
   "execution_count": 39,
   "id": "10928c3e",
   "metadata": {},
   "outputs": [
    {
     "name": "stdout",
     "output_type": "stream",
     "text": [
      "False Positive Rate: 0.209\n",
      "True Positive Rate: 0.808\n"
     ]
    }
   ],
   "source": [
    "#TAXA DE FALSO POSITIVO (1-ESPECIFICIDADE)\n",
    "FP = 1-(68271/(68271+18022))\n",
    "#TAXA DE VERDADEIRO POSITIVO (SENSIBILIDADE)\n",
    "VP = 1404/(1404+334)\n",
    "print(\"False Positive Rate: {:.3f}\".format(FP))\n",
    "print(\"True Positive Rate: {:.3f}\".format(VP))"
   ]
  },
  {
   "cell_type": "markdown",
   "id": "4cb53537",
   "metadata": {},
   "source": [
    "## Regressão Logística"
   ]
  },
  {
   "cell_type": "code",
   "execution_count": 40,
   "id": "53570888",
   "metadata": {},
   "outputs": [
    {
     "name": "stdout",
     "output_type": "stream",
     "text": [
      "Resultado Fase de Treinamento\n",
      "\n",
      "AUC previsão (Regressão logística) - Treino: 0.8066187050359712\n",
      "Validação cruzada (AUC ROC) 0.8066906474820145\n",
      "Classificação report Regressão logística:\n",
      "               precision    recall  f1-score   support\n",
      "\n",
      "           0       0.80      0.82      0.81      6950\n",
      "           1       0.81      0.79      0.80      6950\n",
      "\n",
      "    accuracy                           0.81     13900\n",
      "   macro avg       0.81      0.81      0.81     13900\n",
      "weighted avg       0.81      0.81      0.81     13900\n",
      "\n",
      "Resultado Fase de Teste\n",
      "\n",
      "AUC previsão (Regressão logística)- Teste 0.8057698043691084\n",
      "Matriz de confusão AUC (Regressão logística) - Teste:\n",
      "[[70199 16094]\n",
      " [  351  1387]]\n",
      "Classificação report Regressão logística (Teste):\n",
      "               precision    recall  f1-score   support\n",
      "\n",
      "           0       1.00      0.81      0.90     86293\n",
      "           1       0.08      0.80      0.14      1738\n",
      "\n",
      "    accuracy                           0.81     88031\n",
      "   macro avg       0.54      0.81      0.52     88031\n",
      "weighted avg       0.98      0.81      0.88     88031\n",
      "\n",
      "Variáveis importância : [[ 1.29253642  0.24313322 -0.11830033  0.30797197  0.02367848  0.10831996\n",
      "   0.07299642  0.07673679  0.19103319  0.06799623  0.11527023]]\n"
     ]
    }
   ],
   "source": [
    "rl = LogisticRegression(random_state=0)\n",
    "rl.fit(X_train, y_train)\n",
    "predCV =  cross_val_predict(rl, X_train, y_train, cv=5)\n",
    "print('Resultado Fase de Treinamento')\n",
    "    \n",
    "rl_pred_train = rl.predict(X_train) # previsão classe positiva para os dados de treino \n",
    "print('\\nAUC previsão (Regressão logística) - Treino: {}'.format(roc_auc_score(y_train, rl_pred_train)))\n",
    "print(\"Validação cruzada (AUC ROC) {}\".format(roc_auc_score(y_train, predCV)))\n",
    "print('Classificação report Regressão logística:\\n {}'.format(classification_report(y_train, rl_pred_train)))\n",
    "    \n",
    "print('Resultado Fase de Teste')\n",
    "rl_pred_test = rl.predict(X_test) # previsão classe positiva para os dados de teste\n",
    "print('\\nAUC previsão (Regressão logística)- Teste {}'.format(roc_auc_score(y_test, rl_pred_test)))\n",
    "print('Matriz de confusão AUC (Regressão logística) - Teste:\\n{}'.format(confusion_matrix(y_test, rl_pred_test)))\n",
    "print('Classificação report Regressão logística (Teste):\\n {}'.format(classification_report(y_test, rl_pred_test)))\n",
    "contribution = rl.coef_\n",
    "print(\"Variáveis importância : {}\".format(contribution))"
   ]
  },
  {
   "cell_type": "code",
   "execution_count": 41,
   "id": "f125d0d6",
   "metadata": {},
   "outputs": [
    {
     "name": "stdout",
     "output_type": "stream",
     "text": [
      "False Positive Rate: 0.187\n",
      "True Positive Rate: 0.798\n"
     ]
    }
   ],
   "source": [
    "#TAXA DE FALSO POSITIVO (1-ESPECIFICIDADE)\n",
    "FP = 1-(70199/(70199+16094))\n",
    "#TAXA DE VERDADEIRO POSITIVO (SENSIBILIDADE)\n",
    "VP = 1387/(1387+351)\n",
    "print(\"False Positive Rate: {:.3f}\".format(FP))\n",
    "print(\"True Positive Rate: {:.3f}\".format(VP))"
   ]
  },
  {
   "cell_type": "markdown",
   "id": "8ff8b4e6",
   "metadata": {},
   "source": [
    "## XGBoost"
   ]
  },
  {
   "cell_type": "code",
   "execution_count": 42,
   "id": "2a9cbe0c",
   "metadata": {},
   "outputs": [
    {
     "name": "stdout",
     "output_type": "stream",
     "text": [
      "Resultado Fase de Treinamento\n",
      "\n",
      "AUC previsão (XGBoost) - Treino: 0.8092805755395683\n",
      "Validação cruzada (AUC ROC) 0.8065467625899281\n",
      "Classificação report XGBoost:\n",
      "               precision    recall  f1-score   support\n",
      "\n",
      "           0       0.82      0.80      0.81      6950\n",
      "           1       0.80      0.82      0.81      6950\n",
      "\n",
      "    accuracy                           0.81     13900\n",
      "   macro avg       0.81      0.81      0.81     13900\n",
      "weighted avg       0.81      0.81      0.81     13900\n",
      "\n",
      "Resultado Fase de Teste\n",
      "\n",
      "AUC previsão (XGBoost)- Teste 0.8028021472912349\n",
      "Matriz de confusão AUC (XGBoost) - Teste:\n",
      "[[68098 18195]\n",
      " [  319  1419]]\n",
      "Classificação report XGBoost (Teste):\n",
      "               precision    recall  f1-score   support\n",
      "\n",
      "           0       1.00      0.79      0.88     86293\n",
      "           1       0.07      0.82      0.13      1738\n",
      "\n",
      "    accuracy                           0.79     88031\n",
      "   macro avg       0.53      0.80      0.51     88031\n",
      "weighted avg       0.98      0.79      0.87     88031\n",
      "\n",
      "Variáveis importância : [0.23729037 0.03186233 0.01664028 0.5592273  0.00588702 0.02644851\n",
      " 0.01945011 0.01821579 0.05586283 0.00891762 0.02019778]\n"
     ]
    }
   ],
   "source": [
    "xgboost = xgb.XGBClassifier(max_depth = 2, random_state=0)\n",
    "xgboost.fit(X_train, y_train)\n",
    "predCV =  cross_val_predict(xgboost, X_train, y_train, cv=5)\n",
    "print('Resultado Fase de Treinamento')\n",
    "    \n",
    "xgboost_class_train = xgboost.predict(X_train) # previsão classe positiva para os dados de treino \n",
    "print('\\nAUC previsão (XGBoost) - Treino: {}'.format(roc_auc_score(y_train, xgboost_class_train)))\n",
    "print(\"Validação cruzada (AUC ROC) {}\".format(roc_auc_score(y_train, predCV)))\n",
    "print('Classificação report XGBoost:\\n {}'.format(classification_report(y_train, xgboost_class_train)))\n",
    "    \n",
    "print('Resultado Fase de Teste')\n",
    "xgboost_class_test = xgboost.predict(X_test) # previsão classe positiva para os dados de teste\n",
    "print('\\nAUC previsão (XGBoost)- Teste {}'.format(roc_auc_score(y_test, xgboost_class_test)))\n",
    "print('Matriz de confusão AUC (XGBoost) - Teste:\\n{}'.format(confusion_matrix(y_test, xgboost_class_test)))\n",
    "print('Classificação report XGBoost (Teste):\\n {}'.format(classification_report(y_test, xgboost_class_test)))\n",
    "contribution = xgboost.feature_importances_\n",
    "print(\"Variáveis importância : {}\".format(contribution))"
   ]
  },
  {
   "cell_type": "code",
   "execution_count": 43,
   "id": "81a2e118",
   "metadata": {},
   "outputs": [
    {
     "name": "stdout",
     "output_type": "stream",
     "text": [
      "False Positive Rate: 0.211\n",
      "True Positive Rate: 0.816\n"
     ]
    }
   ],
   "source": [
    "#TAXA DE FALSO POSITIVO (1-ESPECIFICIDADE)\n",
    "FP = 1-(68098/(68098+18195))\n",
    "#TAXA DE VERDADEIRO POSITIVO (SENSIBILIDADE)\n",
    "VP = 1419/(1419+319)\n",
    "print(\"False Positive Rate: {:.3f}\".format(FP))\n",
    "print(\"True Positive Rate: {:.3f}\".format(VP))"
   ]
  },
  {
   "cell_type": "markdown",
   "id": "1334be27",
   "metadata": {},
   "source": [
    "## LightGBM"
   ]
  },
  {
   "cell_type": "code",
   "execution_count": 44,
   "id": "0665addb",
   "metadata": {},
   "outputs": [
    {
     "name": "stdout",
     "output_type": "stream",
     "text": [
      "Resultado Fase de Treinamento\n",
      "\n",
      "AUC previsão (LightGBM) - Treino: 0.8072661870503598\n",
      "Validação cruzada (AUC ROC) 0.8044604316546762\n",
      "Classificação report LightGBM:\n",
      "               precision    recall  f1-score   support\n",
      "\n",
      "           0       0.81      0.81      0.81      6950\n",
      "           1       0.81      0.81      0.81      6950\n",
      "\n",
      "    accuracy                           0.81     13900\n",
      "   macro avg       0.81      0.81      0.81     13900\n",
      "weighted avg       0.81      0.81      0.81     13900\n",
      "\n",
      "Resultado Fase de Teste\n",
      "\n",
      "AUC previsão (LightGBM)- Teste 0.8040527804373295\n",
      "Matriz de confusão AUC (LightGBM) - Teste:\n",
      "[[68860 17433]\n",
      " [  330  1408]]\n",
      "Classificação report LightGBM (Teste):\n",
      "               precision    recall  f1-score   support\n",
      "\n",
      "           0       1.00      0.80      0.89     86293\n",
      "           1       0.07      0.81      0.14      1738\n",
      "\n",
      "    accuracy                           0.80     88031\n",
      "   macro avg       0.53      0.80      0.51     88031\n",
      "weighted avg       0.98      0.80      0.87     88031\n",
      "\n",
      "Variáveis importância : [131  22  13  21   7  35  11  14  23   8  15]\n"
     ]
    }
   ],
   "source": [
    "gbm = lgb.LGBMClassifier(max_depth = 2,random_state=0)\n",
    "gbm.fit(X_train, y_train)\n",
    "predCV =  cross_val_predict(gbm, X_train, y_train, cv=5)\n",
    "print('Resultado Fase de Treinamento')\n",
    "    \n",
    "gbm_pred_train = gbm.predict(X_train) # previsão classe positiva para os dados de treino \n",
    "print('\\nAUC previsão (LightGBM) - Treino: {}'.format(roc_auc_score(y_train, gbm_pred_train)))\n",
    "print(\"Validação cruzada (AUC ROC) {}\".format(roc_auc_score(y_train, predCV)))\n",
    "print('Classificação report LightGBM:\\n {}'.format(classification_report(y_train, gbm_pred_train)))\n",
    "    \n",
    "print('Resultado Fase de Teste')\n",
    "gbm_pred_test = gbm.predict(X_test) # previsão classe positiva para os dados de teste\n",
    "print('\\nAUC previsão (LightGBM)- Teste {}'.format(roc_auc_score(y_test, gbm_pred_test)))\n",
    "print('Matriz de confusão AUC (LightGBM) - Teste:\\n{}'.format(confusion_matrix(y_test, gbm_pred_test)))\n",
    "print('Classificação report LightGBM (Teste):\\n {}'.format(classification_report(y_test, gbm_pred_test)))\n",
    "contribution = gbm.feature_importances_\n",
    "print(\"Variáveis importância : {}\".format(contribution))"
   ]
  },
  {
   "cell_type": "code",
   "execution_count": 45,
   "id": "84e410b7",
   "metadata": {},
   "outputs": [
    {
     "name": "stdout",
     "output_type": "stream",
     "text": [
      "False Positive Rate: 0.202\n",
      "True Positive Rate: 0.810\n"
     ]
    }
   ],
   "source": [
    "#TAXA DE FALSO POSITIVO (1-ESPECIFICIDADE)\n",
    "FP = 1-(68860/(68860+17433))\n",
    "#TAXA DE VERDADEIRO POSITIVO (SENSIBILIDADE)\n",
    "VP = 1408/(1408+330)\n",
    "print(\"False Positive Rate: {:.3f}\".format(FP))\n",
    "print(\"True Positive Rate: {:.3f}\".format(VP))"
   ]
  },
  {
   "cell_type": "markdown",
   "id": "f0ea5739",
   "metadata": {},
   "source": [
    "## CatBoost"
   ]
  },
  {
   "cell_type": "code",
   "execution_count": 46,
   "id": "4ea1d86b",
   "metadata": {},
   "outputs": [
    {
     "name": "stdout",
     "output_type": "stream",
     "text": [
      "Resultado Fase de Treinamento\n",
      "\n",
      "AUC previsão (CatBoost) - Treino: 0.8099999999999999\n",
      "Validação cruzada (AUC ROC) 0.8055395683453238\n",
      "Classificação report CatBoost:\n",
      "               precision    recall  f1-score   support\n",
      "\n",
      "           0       0.81      0.81      0.81      6950\n",
      "           1       0.81      0.81      0.81      6950\n",
      "\n",
      "    accuracy                           0.81     13900\n",
      "   macro avg       0.81      0.81      0.81     13900\n",
      "weighted avg       0.81      0.81      0.81     13900\n",
      "\n",
      "Resultado Fase de Teste\n",
      "\n",
      "AUC previsão (CatBoost)- Teste 0.8050131495290812\n",
      "Matriz de confusão AUC (CatBoost) - Teste:\n",
      "[[69274 17019]\n",
      " [  335  1403]]\n",
      "Classificação report CatBoost (Teste):\n",
      "               precision    recall  f1-score   support\n",
      "\n",
      "           0       1.00      0.80      0.89     86293\n",
      "           1       0.08      0.81      0.14      1738\n",
      "\n",
      "    accuracy                           0.80     88031\n",
      "   macro avg       0.54      0.81      0.51     88031\n",
      "weighted avg       0.98      0.80      0.87     88031\n",
      "\n",
      "Variáveis importância : [68.56506713  3.23983323  0.62067754 16.96200555  0.63343052  2.84183158\n",
      "  1.84555261  1.19830948  2.92692743  0.53157732  0.63478761]\n"
     ]
    }
   ],
   "source": [
    "cat = CatBoostClassifier(max_depth = 2,n_estimators=1300, eta=0.04, random_state=0, verbose=False)\n",
    "cat.fit(X_train, y_train)\n",
    "predCV =  cross_val_predict(cat, X_train, y_train, cv=5)\n",
    "print('Resultado Fase de Treinamento')\n",
    "    \n",
    "cat_pred_train = cat.predict(X_train) # previsão classe positiva para os dados de treino \n",
    "print('\\nAUC previsão (CatBoost) - Treino: {}'.format(roc_auc_score(y_train, cat_pred_train)))\n",
    "print(\"Validação cruzada (AUC ROC) {}\".format(roc_auc_score(y_train, predCV)))\n",
    "print('Classificação report CatBoost:\\n {}'.format(classification_report(y_train, cat_pred_train)))\n",
    "    \n",
    "print('Resultado Fase de Teste')\n",
    "cat_pred_test = cat.predict(X_test) # previsão classe positiva para os dados de teste\n",
    "print('\\nAUC previsão (CatBoost)- Teste {}'.format(roc_auc_score(y_test, cat_pred_test)))\n",
    "print('Matriz de confusão AUC (CatBoost) - Teste:\\n{}'.format(confusion_matrix(y_test, cat_pred_test)))\n",
    "print('Classificação report CatBoost (Teste):\\n {}'.format(classification_report(y_test, cat_pred_test)))\n",
    "contribution = cat.feature_importances_\n",
    "print(\"Variáveis importância : {}\".format(contribution))"
   ]
  },
  {
   "cell_type": "code",
   "execution_count": 47,
   "id": "405f47ca",
   "metadata": {},
   "outputs": [
    {
     "name": "stdout",
     "output_type": "stream",
     "text": [
      "False Positive Rate: 0.197\n",
      "True Positive Rate: 0.807\n"
     ]
    }
   ],
   "source": [
    "#TAXA DE FALSO POSITIVO (1-ESPECIFICIDADE)\n",
    "FP = 1-(69274/(69274+17019))\n",
    "#TAXA DE VERDADEIRO POSITIVO (SENSIBILIDADE)\n",
    "VP = 1403/(1403+335)\n",
    "print(\"False Positive Rate: {:.3f}\".format(FP))\n",
    "print(\"True Positive Rate: {:.3f}\".format(VP))"
   ]
  },
  {
   "cell_type": "markdown",
   "id": "638a8e05",
   "metadata": {},
   "source": [
    "### Curva ROC para os dois modelos com melhor desempenho"
   ]
  },
  {
   "cell_type": "code",
   "execution_count": 48,
   "id": "bced7bc2",
   "metadata": {
    "scrolled": false
   },
   "outputs": [
    {
     "data": {
      "image/png": "[encoded data removed]",
      "text/plain": [
       "<Figure size 640x480 with 1 Axes>"
      ]
     },
     "metadata": {},
     "output_type": "display_data"
    }
   ],
   "source": [
    "rf_auc = roc_auc_score(y_test, rf_pred_test)\n",
    "rl_auc = roc_auc_score(y_test, rl_pred_test)\n",
    "\n",
    "rf_fpr, rf_tpr, rf_thresholds = roc_curve(y_test, rf_pred_test)\n",
    "rl_fpr, rl_tpr, rl_thresholds = roc_curve(y_test, rl_pred_test)\n",
    "\n",
    "def plot_roc_curve(rf_fpr, rf_tpr, label=None):\n",
    "    plt.plot(rf_fpr, rf_tpr, linewidth=1, label=label)\n",
    "    plt.plot([0, 1], [0, 1], 'k--')\n",
    "    plt.axis([-0.01, 1, -0.01, 1.02])\n",
    "    plt.xlabel('Taxa de Falsos Positivos')\n",
    "    plt.ylabel('Taxa de Verdadeiros Positivos')\n",
    "    plt.plot(rf_fpr, rf_tpr, label='RandomForest (AUC = %0.3f)' % rf_auc)\n",
    "    plt.legend(loc=\"lower right\")\n",
    "plot_roc_curve(rf_fpr, rf_tpr)\n",
    "def plot_roc_curve(rl_fpr, rl_tpr, label=None):\n",
    "    plt.plot(rl_fpr, rl_tpr, linewidth=1, label=label)\n",
    "    plt.plot([0, 1], [0, 1], 'k--')\n",
    "    plt.axis([-0.01, 1, -0.01, 1.02])\n",
    "    plt.xlabel('Taxa de Falsos Positivos')\n",
    "    plt.ylabel('Taxa de Verdadeiros Positivos')\n",
    "    plt.plot(rl_fpr, rl_tpr, label='RegressãoLogística (AUC = %0.3f)' % rl_auc, color=\"b\")\n",
    "    plt.legend(loc=\"lower right\")\n",
    "plot_roc_curve(rl_fpr, rl_tpr)\n",
    "plt.show()"
   ]
  },
  {
   "cell_type": "markdown",
   "id": "9630f4a4",
   "metadata": {},
   "source": [
    "## Análises posteriores ao TCC\n",
    "\n",
    "### Redes Neurais\n",
    "\n",
    "Resultado não foi superior a regressão logística, considerando principais métricas: AUC, VP, VF e acurácia"
   ]
  },
  {
   "cell_type": "code",
   "execution_count": 49,
   "id": "57b6fe99",
   "metadata": {},
   "outputs": [],
   "source": [
    "from sklearn.neural_network import MLPClassifier"
   ]
  },
  {
   "cell_type": "code",
   "execution_count": 50,
   "id": "02f81b02",
   "metadata": {},
   "outputs": [
    {
     "name": "stdout",
     "output_type": "stream",
     "text": [
      "Resultado Fase de Treinamento\n",
      "\n",
      "AUC previsão (Redes Neurais) - Treino: 0.8088489208633094\n",
      "Validação cruzada (AUC ROC) 0.8056834532374101\n",
      "Classificação report Redes Neurais:\n",
      "               precision    recall  f1-score   support\n",
      "\n",
      "           0       0.81      0.80      0.81      6950\n",
      "           1       0.80      0.82      0.81      6950\n",
      "\n",
      "    accuracy                           0.81     13900\n",
      "   macro avg       0.81      0.81      0.81     13900\n",
      "weighted avg       0.81      0.81      0.81     13900\n",
      "\n",
      "Resultado Fase de Teste\n",
      "\n",
      "AUC previsão (Redes Neurais)- Teste 0.8062876863031092\n",
      "Matriz de confusão AUC (Redes Neurais) - Teste:\n",
      "[[68352 17941]\n",
      " [  312  1426]]\n",
      "Classificação report Redes Neurais (Teste):\n",
      "               precision    recall  f1-score   support\n",
      "\n",
      "           0       1.00      0.79      0.88     86293\n",
      "           1       0.07      0.82      0.14      1738\n",
      "\n",
      "    accuracy                           0.79     88031\n",
      "   macro avg       0.53      0.81      0.51     88031\n",
      "weighted avg       0.98      0.79      0.87     88031\n",
      "\n"
     ]
    }
   ],
   "source": [
    "def run_RNeural(X_train, X_test, y_train, y_test):\n",
    "    rn = MLPClassifier(max_iter=500,random_state=0)\n",
    "    rn.fit(X_train, y_train)\n",
    "    predCV =  cross_val_predict(rn, X_train, y_train, cv=5)\n",
    "    print('Resultado Fase de Treinamento')\n",
    "    \n",
    "    pred_class_train = rn.predict(X_train) # previsão classe positiva para os dados de treino \n",
    "    print('\\nAUC previsão (Redes Neurais) - Treino: {}'.format(roc_auc_score(y_train, pred_class_train)))\n",
    "    print(\"Validação cruzada (AUC ROC) {}\".format(roc_auc_score(y_train, predCV)))\n",
    "    print('Classificação report Redes Neurais:\\n {}'.format(classification_report(y_train, pred_class_train)))\n",
    "    \n",
    "    print('Resultado Fase de Teste')\n",
    "    pred_class_test = rn.predict(X_test) # previsão classe positiva para os dados de teste\n",
    "    print('\\nAUC previsão (Redes Neurais)- Teste {}'.format(roc_auc_score(y_test, pred_class_test)))\n",
    "    print('Matriz de confusão AUC (Redes Neurais) - Teste:\\n{}'.format(confusion_matrix(y_test, pred_class_test)))\n",
    "    print('Classificação report Redes Neurais (Teste):\\n {}'.format(classification_report(y_test, pred_class_test)))\n",
    "    return pred_class_train, pred_class_test\n",
    "\n",
    "pred_class_train, pred_class_test = run_RNeural(X_train,X_test,y_train, y_test)"
   ]
  },
  {
   "cell_type": "code",
   "execution_count": 51,
   "id": "b22bade3",
   "metadata": {},
   "outputs": [
    {
     "name": "stdout",
     "output_type": "stream",
     "text": [
      "False Positive Rate: 0.208\n",
      "True Positive Rate: 0.820\n"
     ]
    }
   ],
   "source": [
    "#TAXA DE FALSO POSITIVO (1-ESPECIFICIDADE)\n",
    "FP = 1-(68352/(68352+17941))\n",
    "#TAXA DE VERDADEIRO POSITIVO (SENSIBILIDADE)\n",
    "VP = 1426/(1426+312)\n",
    "print(\"False Positive Rate: {:.3f}\".format(FP))\n",
    "print(\"True Positive Rate: {:.3f}\".format(VP))"
   ]
  },
  {
   "cell_type": "markdown",
   "id": "541501da",
   "metadata": {},
   "source": [
    "### Shapley value"
   ]
  },
  {
   "cell_type": "code",
   "execution_count": 52,
   "id": "61d8f3ab",
   "metadata": {},
   "outputs": [],
   "source": [
    "import shap"
   ]
  },
  {
   "cell_type": "code",
   "execution_count": 53,
   "id": "815c5c0e",
   "metadata": {},
   "outputs": [],
   "source": [
    "feature_names = ['Idade', 'Sexo', 'ProfissionalSaude', 'Comorbidade', 'Cardiovascular', 'Diabetes',\n",
    "                 'Hipertensão', 'Neoplasia', 'Obesidade', 'Pulmonar', 'Gestante']\n",
    "\n",
    "masker = shap.maskers.Independent(data=X_test)\n",
    "explainer = shap.LinearExplainer(rl, masker=masker, feature_names=feature_names)\n",
    "shap_values = explainer(X_test)"
   ]
  },
  {
   "cell_type": "code",
   "execution_count": 54,
   "id": "36a57731",
   "metadata": {},
   "outputs": [
    {
     "data": {
      "image/png": "[encoded data removed]",
      "text/plain": [
       "<Figure size 800x700 with 3 Axes>"
      ]
     },
     "metadata": {},
     "output_type": "display_data"
    }
   ],
   "source": [
    "shap.plots.waterfall(shap_values[0],  max_display=11)"
   ]
  },
  {
   "cell_type": "code",
   "execution_count": 55,
   "id": "8723329a",
   "metadata": {
    "scrolled": false
   },
   "outputs": [
    {
     "data": {
      "image/png": "[encoded data removed]",
      "text/plain": [
       "<Figure size 800x590 with 2 Axes>"
      ]
     },
     "metadata": {},
     "output_type": "display_data"
    }
   ],
   "source": [
    "shap.plots.beeswarm(shap_values, max_display=11)"
   ]
  },
  {
   "cell_type": "code",
   "execution_count": 56,
   "id": "8d7eb80a",
   "metadata": {},
   "outputs": [
    {
     "data": {
      "image/png": "[encoded data removed]",
      "text/plain": [
       "<Figure size 800x590 with 2 Axes>"
      ]
     },
     "metadata": {},
     "output_type": "display_data"
    }
   ],
   "source": [
    "shap.summary_plot(shap_values, X_test)"
   ]
  },
  {
   "cell_type": "code",
   "execution_count": null,
   "id": "65602478",
   "metadata": {},
   "outputs": [],
   "source": []
  }
 ],
 "metadata": {
  "kernelspec": {
   "display_name": "Python 3 (ipykernel)",
   "language": "python",
   "name": "python3"
  },
  "language_info": {
   "codemirror_mode": {
    "name": "ipython",
    "version": 3
   },
   "file_extension": ".py",
   "mimetype": "text/x-python",
   "name": "python",
   "nbconvert_exporter": "python",
   "pygments_lexer": "ipython3",
   "version": "3.9.13"
  }
 },
 "nbformat": 4,
 "nbformat_minor": 5
}
